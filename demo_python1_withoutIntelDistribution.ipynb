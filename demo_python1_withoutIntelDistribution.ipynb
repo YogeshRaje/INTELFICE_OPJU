{
 "cells": [
  {
   "cell_type": "code",
   "execution_count": 1,
   "id": "f1d53bb2",
   "metadata": {},
   "outputs": [
    {
     "name": "stdout",
     "output_type": "stream",
     "text": [
      "Welcome to Learn Intel Python\n",
      "CPU times: total: 2.52 s\n",
      "Wall time: 2.66 s\n"
     ]
    },
    {
     "data": {
      "text/plain": [
       "'Original Scikit-learn time: 0.00 s'"
      ]
     },
     "execution_count": 1,
     "metadata": {},
     "output_type": "execute_result"
    }
   ],
   "source": [
    "%%time\n",
    "from timeit import default_timer as timer\n",
    "from sklearn import metrics\n",
    "from sklearn.model_selection import train_test_split\n",
    "import pandas as pd\n",
    "import numpy as np\n",
    "import os\n",
    "import requests\n",
    "import warnings\n",
    "from IPython.display import HTML\n",
    "warnings.filterwarnings('ignore')\n",
    "\n",
    "#check timing \n",
    "start = timer()\n",
    "print(\"Welcome to Learn Intel Python\")\n",
    "newtime = timer() - start\n",
    "f\"Original Scikit-learn time: {newtime:.2f} s\""
   ]
  },
  {
   "cell_type": "code",
   "execution_count": null,
   "id": "077af34c",
   "metadata": {},
   "outputs": [],
   "source": []
  }
 ],
 "metadata": {
  "kernelspec": {
   "display_name": "Python 3 (ipykernel)",
   "language": "python",
   "name": "python3"
  },
  "language_info": {
   "codemirror_mode": {
    "name": "ipython",
    "version": 3
   },
   "file_extension": ".py",
   "mimetype": "text/x-python",
   "name": "python",
   "nbconvert_exporter": "python",
   "pygments_lexer": "ipython3",
   "version": "3.9.12"
  }
 },
 "nbformat": 4,
 "nbformat_minor": 5
}
